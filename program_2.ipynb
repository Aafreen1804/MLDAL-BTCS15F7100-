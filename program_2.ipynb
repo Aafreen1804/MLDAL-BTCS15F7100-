{
  "nbformat": 4,
  "nbformat_minor": 0,
  "metadata": {
    "colab": {
      "name": "program 2.ipynb",
      "provenance": []
    },
    "kernelspec": {
      "name": "python3",
      "display_name": "Python 3"
    }
  },
  "cells": [
    {
      "cell_type": "markdown",
      "metadata": {
        "id": "GTTDbOYzXld9",
        "colab_type": "text"
      },
      "source": [
        "**CANDIDATE ELIMINATION METHOD**"
      ]
    },
    {
      "cell_type": "code",
      "metadata": {
        "id": "YHkXrS-yXAh3",
        "colab_type": "code",
        "colab": {
          "base_uri": "https://localhost:8080/",
          "height": 547
        },
        "outputId": "cb16acf9-024b-47b8-b18a-5b3f68e66540"
      },
      "source": [
        "import numpy as np\n",
        "import pandas as pd\n",
        "\n",
        "data = pd.DataFrame(data=pd.read_csv('/content/ds1.csv')) \n",
        "data\n",
        "\n",
        "concepts = np.array(data.iloc[:,0:-1])\n",
        "print(concepts)\n",
        "\n",
        "\n",
        "target = np.array(data.iloc[:,-1])\n",
        "print(target)\n",
        "\n",
        "def learn(concepts, target): #learn function implements the learning method of the candidate elimination algorithm where arguments concepts: a data frame with all the features, target-a data frame with corresponding output values\n",
        "    # Initialise S0 with the first instance from concepts,.copy() make sure a new list is created instead of pointing to the same memory location\n",
        "    specific_h = concepts[0].copy()\n",
        "    print(\"Initialization of specific_h and general_h\")\n",
        "    print(\"specific_h: \",specific_h)\n",
        "\n",
        "    #h=[\"#\" for i in range(0,5)],print(h)\n",
        "    general_h = [[\"?\" for i in range(len(specific_h))] for i in range(len(specific_h))]\n",
        "    print(\"general_h: \",general_h)\n",
        "\n",
        "    #print(\"concepts: \",concepts)\n",
        "    #the learning iterations\n",
        "    for i, h in enumerate(concepts):\n",
        "        #checking if the hypothesis has a positive target\n",
        "        if target[i] == \"Yes\":\n",
        "            for x in range(len(specific_h)):\n",
        "                \n",
        "                # change values in S and G only if values change\n",
        "                \n",
        "                if h[x] != specific_h[x]:\n",
        "                    specific_h[x] = '?'\n",
        "                    general_h[x][x] = '?'\n",
        "        #checking if the hypothesis has a positive target\n",
        "        if target[i] == \"No\":\n",
        "            for x in range(len(specific_h)):\n",
        "                #for negative hypothesis change values only in G\n",
        "                if h[x] != specific_h[x]:\n",
        "                    general_h[x][x] = specific_h[x]\n",
        "                else:\n",
        "                    general_h[x][x] = '?'\n",
        "\n",
        "        print(\"\\nSteps of Candidate Elimination Algorithm: \",i+1)\n",
        "        print(specific_h)\n",
        "        print(general_h)\n",
        "        \n",
        "\n",
        "        #find indices where we have empty rows, meaning those that are unchanged\n",
        "\n",
        "    indices = [i for i, val in enumerate(general_h) if val == ['?', '?', '?', '?', '?', '?']]\n",
        "    for i in indices:\n",
        "        #remove those rows from general_h\n",
        "        general_h.remove(['?', '?', '?', '?', '?', '?'])\n",
        "    return specific_h, general_h\n",
        "\n",
        "\n",
        "s_final,g_final = learn(concepts, target)\n",
        "\n",
        "print(\"\\nFinal Specific_h:\", s_final, sep=\"\\n\")\n",
        "\n",
        "print(\"\\nFinal General_h:\", g_final, sep=\"\\n\")\n"
      ],
      "execution_count": 1,
      "outputs": [
        {
          "output_type": "stream",
          "text": [
            "[['sunny' 'warm' 'normal' 'strong' 'warm' 'same']\n",
            " ['sunny' 'warm' 'high' 'strong' 'warm' 'same']\n",
            " ['rainy' 'cold' 'high' 'strong' 'warm' 'change']\n",
            " ['sunny' 'warm' 'high' 'strong' 'cool' 'same']]\n",
            "['Yes' 'Yes' 'No' 'Yes']\n",
            "Initialization of specific_h and general_h\n",
            "specific_h:  ['sunny' 'warm' 'normal' 'strong' 'warm' 'same']\n",
            "general_h:  [['?', '?', '?', '?', '?', '?'], ['?', '?', '?', '?', '?', '?'], ['?', '?', '?', '?', '?', '?'], ['?', '?', '?', '?', '?', '?'], ['?', '?', '?', '?', '?', '?'], ['?', '?', '?', '?', '?', '?']]\n",
            "\n",
            "Steps of Candidate Elimination Algorithm:  1\n",
            "['sunny' 'warm' 'normal' 'strong' 'warm' 'same']\n",
            "[['?', '?', '?', '?', '?', '?'], ['?', '?', '?', '?', '?', '?'], ['?', '?', '?', '?', '?', '?'], ['?', '?', '?', '?', '?', '?'], ['?', '?', '?', '?', '?', '?'], ['?', '?', '?', '?', '?', '?']]\n",
            "\n",
            "Steps of Candidate Elimination Algorithm:  2\n",
            "['sunny' 'warm' '?' 'strong' 'warm' 'same']\n",
            "[['?', '?', '?', '?', '?', '?'], ['?', '?', '?', '?', '?', '?'], ['?', '?', '?', '?', '?', '?'], ['?', '?', '?', '?', '?', '?'], ['?', '?', '?', '?', '?', '?'], ['?', '?', '?', '?', '?', '?']]\n",
            "\n",
            "Steps of Candidate Elimination Algorithm:  3\n",
            "['sunny' 'warm' '?' 'strong' 'warm' 'same']\n",
            "[['sunny', '?', '?', '?', '?', '?'], ['?', 'warm', '?', '?', '?', '?'], ['?', '?', '?', '?', '?', '?'], ['?', '?', '?', '?', '?', '?'], ['?', '?', '?', '?', '?', '?'], ['?', '?', '?', '?', '?', 'same']]\n",
            "\n",
            "Steps of Candidate Elimination Algorithm:  4\n",
            "['sunny' 'warm' '?' 'strong' '?' 'same']\n",
            "[['sunny', '?', '?', '?', '?', '?'], ['?', 'warm', '?', '?', '?', '?'], ['?', '?', '?', '?', '?', '?'], ['?', '?', '?', '?', '?', '?'], ['?', '?', '?', '?', '?', '?'], ['?', '?', '?', '?', '?', 'same']]\n",
            "\n",
            "Final Specific_h:\n",
            "['sunny' 'warm' '?' 'strong' '?' 'same']\n",
            "\n",
            "Final General_h:\n",
            "[['sunny', '?', '?', '?', '?', '?'], ['?', 'warm', '?', '?', '?', '?'], ['?', '?', '?', '?', '?', 'same']]\n"
          ],
          "name": "stdout"
        }
      ]
    }
  ]
}