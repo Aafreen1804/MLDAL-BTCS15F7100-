{
  "nbformat": 4,
  "nbformat_minor": 0,
  "metadata": {
    "colab": {
      "name": "program 7 MLDA.ipynb",
      "provenance": [],
      "authorship_tag": "ABX9TyNLh0GYXC+Db6cRY3s9TxQj",
      "include_colab_link": true
    },
    "kernelspec": {
      "name": "python3",
      "display_name": "Python 3"
    }
  },
  "cells": [
    {
      "cell_type": "markdown",
      "metadata": {
        "id": "view-in-github",
        "colab_type": "text"
      },
      "source": [
        "<a href=\"https://colab.research.google.com/github/Aafreen1804/MLDAL-BTCS15F7100-/blob/master/program_7_MLDA.ipynb\" target=\"_parent\"><img src=\"https://colab.research.google.com/assets/colab-badge.svg\" alt=\"Open In Colab\"/></a>"
      ]
    },
    {
      "cell_type": "code",
      "metadata": {
        "colab": {
          "base_uri": "https://localhost:8080/"
        },
        "id": "waugHh0SNszO",
        "outputId": "f4729ca8-4878-4eb2-8c56-e9af1fa0483a"
      },
      "source": [
        "!pip install pgmpy"
      ],
      "execution_count": 2,
      "outputs": [
        {
          "output_type": "stream",
          "text": [
            "Collecting pgmpy\n",
            "\u001b[?25l  Downloading https://files.pythonhosted.org/packages/22/16/e2edff21fca7a2cacaedd293caaaae5eaea832af0dd347c1159b4455be6b/pgmpy-0.1.12-py3-none-any.whl (322kB)\n",
            "\r\u001b[K     |█                               | 10kB 13.9MB/s eta 0:00:01\r\u001b[K     |██                              | 20kB 18.9MB/s eta 0:00:01\r\u001b[K     |███                             | 30kB 14.3MB/s eta 0:00:01\r\u001b[K     |████                            | 40kB 14.8MB/s eta 0:00:01\r\u001b[K     |█████                           | 51kB 8.7MB/s eta 0:00:01\r\u001b[K     |██████                          | 61kB 9.3MB/s eta 0:00:01\r\u001b[K     |███████                         | 71kB 8.5MB/s eta 0:00:01\r\u001b[K     |████████▏                       | 81kB 9.4MB/s eta 0:00:01\r\u001b[K     |█████████▏                      | 92kB 9.7MB/s eta 0:00:01\r\u001b[K     |██████████▏                     | 102kB 8.4MB/s eta 0:00:01\r\u001b[K     |███████████▏                    | 112kB 8.4MB/s eta 0:00:01\r\u001b[K     |████████████▏                   | 122kB 8.4MB/s eta 0:00:01\r\u001b[K     |█████████████▏                  | 133kB 8.4MB/s eta 0:00:01\r\u001b[K     |██████████████▏                 | 143kB 8.4MB/s eta 0:00:01\r\u001b[K     |███████████████▏                | 153kB 8.4MB/s eta 0:00:01\r\u001b[K     |████████████████▎               | 163kB 8.4MB/s eta 0:00:01\r\u001b[K     |█████████████████▎              | 174kB 8.4MB/s eta 0:00:01\r\u001b[K     |██████████████████▎             | 184kB 8.4MB/s eta 0:00:01\r\u001b[K     |███████████████████▎            | 194kB 8.4MB/s eta 0:00:01\r\u001b[K     |████████████████████▎           | 204kB 8.4MB/s eta 0:00:01\r\u001b[K     |█████████████████████▎          | 215kB 8.4MB/s eta 0:00:01\r\u001b[K     |██████████████████████▎         | 225kB 8.4MB/s eta 0:00:01\r\u001b[K     |███████████████████████▍        | 235kB 8.4MB/s eta 0:00:01\r\u001b[K     |████████████████████████▍       | 245kB 8.4MB/s eta 0:00:01\r\u001b[K     |█████████████████████████▍      | 256kB 8.4MB/s eta 0:00:01\r\u001b[K     |██████████████████████████▍     | 266kB 8.4MB/s eta 0:00:01\r\u001b[K     |███████████████████████████▍    | 276kB 8.4MB/s eta 0:00:01\r\u001b[K     |████████████████████████████▍   | 286kB 8.4MB/s eta 0:00:01\r\u001b[K     |█████████████████████████████▍  | 296kB 8.4MB/s eta 0:00:01\r\u001b[K     |██████████████████████████████▍ | 307kB 8.4MB/s eta 0:00:01\r\u001b[K     |███████████████████████████████▌| 317kB 8.4MB/s eta 0:00:01\r\u001b[K     |████████████████████████████████| 327kB 8.4MB/s \n",
            "\u001b[?25hRequirement already satisfied: pandas in /usr/local/lib/python3.6/dist-packages (from pgmpy) (1.1.4)\n",
            "Requirement already satisfied: joblib in /usr/local/lib/python3.6/dist-packages (from pgmpy) (0.17.0)\n",
            "Requirement already satisfied: scikit-learn in /usr/local/lib/python3.6/dist-packages (from pgmpy) (0.22.2.post1)\n",
            "Requirement already satisfied: torch in /usr/local/lib/python3.6/dist-packages (from pgmpy) (1.7.0+cu101)\n",
            "Requirement already satisfied: numpy in /usr/local/lib/python3.6/dist-packages (from pgmpy) (1.18.5)\n",
            "Requirement already satisfied: pyparsing in /usr/local/lib/python3.6/dist-packages (from pgmpy) (2.4.7)\n",
            "Requirement already satisfied: statsmodels in /usr/local/lib/python3.6/dist-packages (from pgmpy) (0.10.2)\n",
            "Requirement already satisfied: networkx in /usr/local/lib/python3.6/dist-packages (from pgmpy) (2.5)\n",
            "Requirement already satisfied: tqdm in /usr/local/lib/python3.6/dist-packages (from pgmpy) (4.41.1)\n",
            "Requirement already satisfied: scipy in /usr/local/lib/python3.6/dist-packages (from pgmpy) (1.4.1)\n",
            "Requirement already satisfied: python-dateutil>=2.7.3 in /usr/local/lib/python3.6/dist-packages (from pandas->pgmpy) (2.8.1)\n",
            "Requirement already satisfied: pytz>=2017.2 in /usr/local/lib/python3.6/dist-packages (from pandas->pgmpy) (2018.9)\n",
            "Requirement already satisfied: dataclasses in /usr/local/lib/python3.6/dist-packages (from torch->pgmpy) (0.8)\n",
            "Requirement already satisfied: typing-extensions in /usr/local/lib/python3.6/dist-packages (from torch->pgmpy) (3.7.4.3)\n",
            "Requirement already satisfied: future in /usr/local/lib/python3.6/dist-packages (from torch->pgmpy) (0.16.0)\n",
            "Requirement already satisfied: patsy>=0.4.0 in /usr/local/lib/python3.6/dist-packages (from statsmodels->pgmpy) (0.5.1)\n",
            "Requirement already satisfied: decorator>=4.3.0 in /usr/local/lib/python3.6/dist-packages (from networkx->pgmpy) (4.4.2)\n",
            "Requirement already satisfied: six>=1.5 in /usr/local/lib/python3.6/dist-packages (from python-dateutil>=2.7.3->pandas->pgmpy) (1.15.0)\n",
            "Installing collected packages: pgmpy\n",
            "Successfully installed pgmpy-0.1.12\n"
          ],
          "name": "stdout"
        }
      ]
    },
    {
      "cell_type": "code",
      "metadata": {
        "colab": {
          "base_uri": "https://localhost:8080/"
        },
        "id": "vbKu3O9pX7-B",
        "outputId": "12226a41-4563-4f21-ac28-ee536e1d5ff1"
      },
      "source": [
        "import numpy as np\n",
        "import csv\n",
        "import pandas as pd\n",
        "from pgmpy.models import BayesianModel\n",
        "from pgmpy.estimators import MaximumLikelihoodEstimator\n",
        "from pgmpy.inference import VariableElimination\n",
        "#read Cleveland Heart Disease data\n",
        "heartDisease = pd.read_csv('heart.csv')\n",
        "heartDisease = heartDisease.replace('?',np.nan)\n",
        "#display the data\n",
        "print('Few examples from the dataset are given below')\n",
        "print(heartDisease.head())\n",
        "#Model Bayesian Network\n",
        "Model=BayesianModel([('age','trestbps'),('age','fbs'), ('sex','trestbps'),('exang','trestbps'),('trestbps','heartdisease'),('fbs','heartdisease'),('heartdisease','restecg'), ('heartdisease','thalach'),('heartdisease','chol')])\n",
        "#Learning CPDs using Maximum Likelihood Estimators\n",
        "print('\\n Learning CPD using Maximum likelihood estimators')\n",
        "Model.fit(heartDisease,estimator=MaximumLikelihoodEstimator)\n",
        "# Inferencing with Bayesian Network\n",
        "print('\\n Inferencing with Bayesian Network:')\n",
        "HeartDisease_infer = VariableElimination(Model)\n",
        "#computing the Probability of HeartDisease given Age\n",
        "print('\\n 1. Probability of HeartDisease given Age=30')\n",
        "q=HeartDisease_infer.query(variables=['heartdisease'],evidence={'age':28})\n",
        "print(q)\n",
        "#computing the Probability of HeartDisease given cholesterol\n",
        "print('\\n 2. Probability of HeartDisease given cholesterol=100')\n",
        "q=HeartDisease_infer.query(variables=['heartdisease'],evidence={'chol':100})\n",
        "print(q)"
      ],
      "execution_count": 5,
      "outputs": [
        {
          "output_type": "stream",
          "text": [
            "/usr/local/lib/python3.6/dist-packages/pgmpy/factors/discrete/DiscreteFactor.py:519: UserWarning: Found unknown state name. Trying to switch to using all state names as state numbers\n",
            "  \"Found unknown state name. Trying to switch to using all state names as state numbers\"\n",
            "Finding Elimination Order: : 100%|██████████| 7/7 [00:00<00:00, 945.09it/s]\n",
            "Eliminating: restecg: 100%|██████████| 7/7 [00:00<00:00, 268.29it/s]"
          ],
          "name": "stderr"
        },
        {
          "output_type": "stream",
          "text": [
            "Few examples from the dataset are given below\n",
            "   age  sex  cp  trestbps  chol  ...  oldpeak  slope  ca  thalach.1  heartdisease\n",
            "0   63    1   1       145   233  ...      2.3      3   0          6             0\n",
            "1   67    1   4       160   286  ...      1.5      2   3          3             2\n",
            "2   67    1   4       120   229  ...      2.6      2   2          7             1\n",
            "3   37    1   3       130   250  ...      3.5      3   0          3             0\n",
            "4   41    0   2       130   204  ...      1.4      1   0          3             0\n",
            "\n",
            "[5 rows x 14 columns]\n",
            "\n",
            " Learning CPD using Maximum likelihood estimators\n",
            "\n",
            " Inferencing with Bayesian Network:\n",
            "\n",
            " 1. Probability of HeartDisease given Age=30\n"
          ],
          "name": "stdout"
        },
        {
          "output_type": "stream",
          "text": [
            "\n",
            "Finding Elimination Order: : 100%|██████████| 7/7 [00:00<00:00, 1857.65it/s]\n",
            "Eliminating: restecg: 100%|██████████| 7/7 [00:00<00:00, 153.47it/s]"
          ],
          "name": "stderr"
        },
        {
          "output_type": "stream",
          "text": [
            "+-----------------+---------------------+\n",
            "| heartdisease    |   phi(heartdisease) |\n",
            "+=================+=====================+\n",
            "| heartdisease(0) |              0.5932 |\n",
            "+-----------------+---------------------+\n",
            "| heartdisease(1) |              0.1714 |\n",
            "+-----------------+---------------------+\n",
            "| heartdisease(2) |              0.0811 |\n",
            "+-----------------+---------------------+\n",
            "| heartdisease(3) |              0.1138 |\n",
            "+-----------------+---------------------+\n",
            "| heartdisease(4) |              0.0405 |\n",
            "+-----------------+---------------------+\n",
            "\n",
            " 2. Probability of HeartDisease given cholesterol=100\n",
            "+-----------------+---------------------+\n",
            "| heartdisease    |   phi(heartdisease) |\n",
            "+=================+=====================+\n",
            "| heartdisease(0) |              1.0000 |\n",
            "+-----------------+---------------------+\n",
            "| heartdisease(1) |              0.0000 |\n",
            "+-----------------+---------------------+\n",
            "| heartdisease(2) |              0.0000 |\n",
            "+-----------------+---------------------+\n",
            "| heartdisease(3) |              0.0000 |\n",
            "+-----------------+---------------------+\n",
            "| heartdisease(4) |              0.0000 |\n",
            "+-----------------+---------------------+\n"
          ],
          "name": "stdout"
        },
        {
          "output_type": "stream",
          "text": [
            "\n"
          ],
          "name": "stderr"
        }
      ]
    },
    {
      "cell_type": "code",
      "metadata": {
        "id": "8y05MOaAX-dp"
      },
      "source": [
        ""
      ],
      "execution_count": null,
      "outputs": []
    }
  ]
}