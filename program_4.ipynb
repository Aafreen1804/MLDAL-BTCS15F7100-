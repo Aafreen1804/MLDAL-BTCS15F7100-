{
  "nbformat": 4,
  "nbformat_minor": 0,
  "metadata": {
    "colab": {
      "name": "program 4.ipynb",
      "provenance": []
    },
    "kernelspec": {
      "name": "python3",
      "display_name": "Python 3"
    }
  },
  "cells": [
    {
      "cell_type": "markdown",
      "metadata": {
        "id": "W-lR_CQ8Dnd8",
        "colab_type": "text"
      },
      "source": [
        "**BACK PROPAGATION ALGORITHM**"
      ]
    },
    {
      "cell_type": "markdown",
      "metadata": {
        "id": "BQqWqdHgDeoA",
        "colab_type": "text"
      },
      "source": [
        "Note: tried running the program 4 as was assigned by Shantala ma'am"
      ]
    },
    {
      "cell_type": "code",
      "metadata": {
        "id": "UKil9fRuDQtU",
        "colab_type": "code",
        "colab": {
          "base_uri": "https://localhost:8080/",
          "height": 221
        },
        "outputId": "d35ee36e-6550-40a3-df8a-597a5099233c"
      },
      "source": [
        "import numpy as np\n",
        "X = np.array(([2, 9], [1, 5], [3, 6]), dtype=float)\n",
        "y = np.array(([92], [86], [89]), dtype=float)\n",
        "\n",
        "X = X/np.amax(X,axis=0) # maximum of X array longitudinally y = y/100\n",
        "\n",
        "#Sigmoid Function\n",
        "\n",
        "def sigmoid (x):\n",
        "    return 1/(1 + np.exp(-x))\n",
        "\n",
        "#Derivative of Sigmoid Function\n",
        "def derivatives_sigmoid(x):\n",
        "    return x * (1 - x)\n",
        "\n",
        "#Variable initialization\n",
        "epoch=7000 #Setting training iterations\n",
        "lr=0.1 #Setting learning rate\n",
        "inputlayer_neurons = 2 #number of features in data set\n",
        "hiddenlayer_neurons = 3 #number of hidden layers neurons\n",
        "output_neurons = 1 #number of neurons at output layer\n",
        "#weight and bias initialization\n",
        "wh=np.random.uniform(size=(inputlayer_neurons,hiddenlayer_neurons))\n",
        "bh=np.random.uniform(size=(1,hiddenlayer_neurons))\n",
        "wout=np.random.uniform(size=(hiddenlayer_neurons,output_neurons))\n",
        "\n",
        "bout=np.random.uniform(size=(1,output_neurons)) #draws a random range of numbers uniformly of dim x*y for i in range(epoch):\n",
        "\n",
        "#Forward Propogation\n",
        "hinp1=np.dot(X,wh)\n",
        "\n",
        "hinp=hinp1 + bh\n",
        "hlayer_act = sigmoid(hinp)\n",
        "outinp1=np.dot(hlayer_act,wout)\n",
        "outinp= outinp1+ bout\n",
        "output = sigmoid(outinp)\n",
        "\n",
        "#Backpropagation\n",
        "EO = y-output\n",
        "outgrad = derivatives_sigmoid(output)\n",
        "d_output = EO* outgrad\n",
        "EH = d_output.dot(wout.T)\n",
        "\n",
        "hiddengrad = derivatives_sigmoid(hlayer_act)#how much hidden layer wts contributed to error\n",
        "\n",
        "d_hiddenlayer = EH * hiddengrad\n",
        "\n",
        "wout += hlayer_act.T.dot(d_output) *lr\n",
        "wh += X.T.dot(d_hiddenlayer) *lr\n",
        "\n",
        "print(\"Input: \\n\" + str(X))\n",
        "print(\"Actual Output: \\n\" + str(y))\n",
        "print(\"Predicted Output: \\n\" ,output)\n"
      ],
      "execution_count": 1,
      "outputs": [
        {
          "output_type": "stream",
          "text": [
            "Input: \n",
            "[[0.66666667 1.        ]\n",
            " [0.33333333 0.55555556]\n",
            " [1.         0.66666667]]\n",
            "Actual Output: \n",
            "[[92.]\n",
            " [86.]\n",
            " [89.]]\n",
            "Predicted Output: \n",
            " [[0.86216859]\n",
            " [0.84446389]\n",
            " [0.86677202]]\n"
          ],
          "name": "stdout"
        }
      ]
    }
  ]
}