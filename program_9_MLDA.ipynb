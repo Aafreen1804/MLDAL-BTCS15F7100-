{
  "nbformat": 4,
  "nbformat_minor": 0,
  "metadata": {
    "colab": {
      "name": "program 8 MLDA.ipynb",
      "provenance": [],
      "authorship_tag": "ABX9TyN9zFK63GM78u3Rk33Tj4T2",
      "include_colab_link": true
    },
    "kernelspec": {
      "name": "python3",
      "display_name": "Python 3"
    }
  },
  "cells": [
    {
      "cell_type": "markdown",
      "metadata": {
        "id": "view-in-github",
        "colab_type": "text"
      },
      "source": [
        "<a href=\"https://colab.research.google.com/github/Aafreen1804/MLDAL-BTCS15F7100-/blob/master/program_9_MLDA.ipynb\" target=\"_parent\"><img src=\"https://colab.research.google.com/assets/colab-badge.svg\" alt=\"Open In Colab\"/></a>"
      ]
    },
    {
      "cell_type": "code",
      "metadata": {
        "colab": {
          "base_uri": "https://localhost:8080/"
        },
        "id": "RPqglB67cI1n",
        "outputId": "edca1a6b-f139-4c68-f9ea-42e99363f346"
      },
      "source": [
        "# import the required packages\n",
        "from sklearn.model_selection import train_test_split\n",
        "from sklearn.neighbors import KNeighborsClassifier\n",
        "from sklearn import datasets\n",
        "# Load dataset\n",
        "iris=datasets.load_iris()\n",
        "print(\"Iris Data set loaded...\")\n",
        "# Split the data into train and test samples\n",
        "x_train, x_test, y_train, y_test = train_test_split(iris.data,iris.target,test_size=0.1)\n",
        "print(\"Dataset is split into training and testing...\")\n",
        "print(\"Size of trainng data and its label\",x_train.shape,y_train.shape)\n",
        "print(\"Size of testing data and its label\",x_test.shape, y_test.shape)\n",
        "# Prints Label no. and their names\n",
        "for i in range(len(iris.target_names)):\n",
        "    print(\"Label\", i , \"-\",str(iris.target_names[i]))\n",
        "# Create object of KNN classifier\n",
        "classifier = KNeighborsClassifier(n_neighbors=1)\n",
        "# Perform Training\n",
        "classifier.fit(x_train, y_train)\n",
        "# Perform testing\n",
        "y_pred=classifier.predict(x_test)\n",
        "# Display the results\n",
        "print(\"Results of Classification using K-nn with K=1 \")\n",
        "for r in range(0,len(x_test)):\n",
        "    print(\" Sample:\", str(x_test[r]), \" Actual-label:\", str(y_test[r]), \" Predictedlabel:\",\n",
        "str(y_pred[r]))\n",
        "print(\"Classification Accuracy :\" , classifier.score(x_test,y_test));\n"
      ],
      "execution_count": 2,
      "outputs": [
        {
          "output_type": "stream",
          "text": [
            "Iris Data set loaded...\n",
            "Dataset is split into training and testing...\n",
            "Size of trainng data and its label (135, 4) (135,)\n",
            "Size of testing data and its label (15, 4) (15,)\n",
            "Label 0 - setosa\n",
            "Label 1 - versicolor\n",
            "Label 2 - virginica\n",
            "Results of Classification using K-nn with K=1 \n",
            " Sample: [6.  3.  4.8 1.8]  Actual-label: 2  Predictedlabel: 2\n",
            " Sample: [6.7 3.1 4.4 1.4]  Actual-label: 1  Predictedlabel: 1\n",
            " Sample: [6.9 3.1 5.4 2.1]  Actual-label: 2  Predictedlabel: 2\n",
            " Sample: [5.  3.5 1.6 0.6]  Actual-label: 0  Predictedlabel: 0\n",
            " Sample: [6.4 2.8 5.6 2.1]  Actual-label: 2  Predictedlabel: 2\n",
            " Sample: [6.  3.4 4.5 1.6]  Actual-label: 1  Predictedlabel: 1\n",
            " Sample: [5.2 4.1 1.5 0.1]  Actual-label: 0  Predictedlabel: 0\n",
            " Sample: [6.4 3.1 5.5 1.8]  Actual-label: 2  Predictedlabel: 2\n",
            " Sample: [5.9 3.  5.1 1.8]  Actual-label: 2  Predictedlabel: 2\n",
            " Sample: [6.5 3.  5.2 2. ]  Actual-label: 2  Predictedlabel: 2\n",
            " Sample: [5.5 2.4 3.8 1.1]  Actual-label: 1  Predictedlabel: 1\n",
            " Sample: [5.8 2.7 3.9 1.2]  Actual-label: 1  Predictedlabel: 1\n",
            " Sample: [5.8 2.6 4.  1.2]  Actual-label: 1  Predictedlabel: 1\n",
            " Sample: [5.9 3.  4.2 1.5]  Actual-label: 1  Predictedlabel: 1\n",
            " Sample: [5.7 2.8 4.5 1.3]  Actual-label: 1  Predictedlabel: 1\n",
            "Classification Accuracy : 1.0\n"
          ],
          "name": "stdout"
        }
      ]
    },
    {
      "cell_type": "code",
      "metadata": {
        "id": "y11v86zdcLCo"
      },
      "source": [
        ""
      ],
      "execution_count": null,
      "outputs": []
    }
  ]
}