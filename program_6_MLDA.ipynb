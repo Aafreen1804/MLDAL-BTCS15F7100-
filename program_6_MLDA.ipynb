{
  "nbformat": 4,
  "nbformat_minor": 0,
  "metadata": {
    "colab": {
      "name": "program 6 MLDA.ipynb",
      "provenance": [],
      "authorship_tag": "ABX9TyPvkpsWAzr/wxn8ocgcHqPc",
      "include_colab_link": true
    },
    "kernelspec": {
      "name": "python3",
      "display_name": "Python 3"
    }
  },
  "cells": [
    {
      "cell_type": "markdown",
      "metadata": {
        "id": "view-in-github",
        "colab_type": "text"
      },
      "source": [
        "<a href=\"https://colab.research.google.com/github/Aafreen1804/MLDAL-BTCS15F7100-/blob/master/program_6_MLDA.ipynb\" target=\"_parent\"><img src=\"https://colab.research.google.com/assets/colab-badge.svg\" alt=\"Open In Colab\"/></a>"
      ]
    },
    {
      "cell_type": "code",
      "metadata": {
        "colab": {
          "base_uri": "https://localhost:8080/"
        },
        "id": "vbKu3O9pX7-B",
        "outputId": "9daa8ef0-5876-4ce2-dc26-6223b3dd199f"
      },
      "source": [
        "import pandas as pd \n",
        "msg=pd.read_csv('6.csv',names=['message','label']) #Tabular form data \n",
        "print(msg) \n",
        "print('Total instances in the dataset:',msg.shape[0]) \n",
        "msg['labelnum']=msg.label.map({'pos':1,'neg':0}) \n",
        "X=msg.message\n",
        "Y=msg.labelnum \n",
        "print('\\nThe message and its label of first 5 instances are listed below') \n",
        "X5, Y5 = X[0:5], msg.label[0:5] \n",
        "for x, y in zip(X5,Y5):\n",
        "  print(x,',',y)\n",
        "# Splitting the dataset into train and test data \n",
        "from sklearn.model_selection import train_test_split \n",
        "xtrain,xtest,ytrain,ytest=train_test_split(X,Y) \n",
        "print('\\nDataset is split into Training and Testing samples') \n",
        "print('Total training instances :', xtrain.shape[0]) \n",
        "print('Total testing instances :', xtest.shape[0])\n",
        "# Output of count vectoriser is a sparse matrix \n",
        "# CountVectorizer - stands for 'feature extraction' \n",
        "from sklearn.feature_extraction.text import CountVectorizer \n",
        "count_vect = CountVectorizer() \n",
        "xtrain_dtm = count_vect.fit_transform(xtrain) #Sparse matrix \n",
        "xtest_dtm = count_vect.transform(xtest) \n",
        "print('\\nTotal features extracted using CountVectorizer:',xtrain_dtm.shape[1])\n",
        "print('\\nFeatures for first 5 training instances are listed below') \n",
        "df=pd.DataFrame(xtrain_dtm.toarray(),columns=count_vect.get_feature_names( )) \n",
        "print(df[0:5])#tabular representation\n",
        " #print(xtrain_dtm) #Same as above but sparse matrix representation\n",
        " # Training Naive Bayes (NB) classifier on training data. \n",
        "from sklearn.naive_bayes import MultinomialNB\n",
        "clf = MultinomialNB().fit(xtrain_dtm,ytrain) \n",
        "predicted = clf.predict(xtest_dtm)\n",
        "print('\\nClasssification results of testing samples are given below') \n",
        "for doc, p in zip(xtest, predicted):\n",
        "  pred = 'pos' if p==1 else 'neg' \n",
        "print('%s -> %s ' % (doc, pred))\n",
        "#printing accuracy metrics \n",
        "from sklearn import metrics \n",
        "print('\\nAccuracy metrics') \n",
        "print('Accuracy of the classifer is',metrics.accuracy_score(ytest,predicted))\n",
        "print('Recall:',metrics.recall_score(ytest,predicted), \n",
        "'\\nPrecison :',metrics.precision_score(ytest,predicted)) \n",
        "print('Confusion matrix') \n",
        "print(metrics.confusion_matrix(ytest,predicted))\n"
      ],
      "execution_count": 14,
      "outputs": [
        {
          "output_type": "stream",
          "text": [
            "                                  message label\n",
            "0                    I love this sandwich   pos\n",
            "1                This is an amazing place   pos\n",
            "2      I feel very good about these beers   pos\n",
            "3                    This is my best work   pos\n",
            "4                    What an awesome view   pos\n",
            "5           I do not like this restaurant   neg\n",
            "6                I am tired of this stuff   neg\n",
            "7                  I can't deal with this   neg\n",
            "8                    He is my sworn enemy   neg\n",
            "9                     My boss is horrible   neg\n",
            "10               This is an awesome place   pos\n",
            "11  I do not like the taste of this juice   neg\n",
            "12                        I love to dance   pos\n",
            "13      I am sick and tired of this place   neg\n",
            "14                   What a great holiday   pos\n",
            "15         That is a bad locality to stay   neg\n",
            "16         We will have good fun tomorrow   pos\n",
            "17       I went to my enemy's house today   neg\n",
            "Total instances in the dataset: 18\n",
            "\n",
            "The message and its label of first 5 instances are listed below\n",
            "I love this sandwich , pos\n",
            "This is an amazing place , pos\n",
            "I feel very good about these beers , pos\n",
            "This is my best work , pos\n",
            "What an awesome view , pos\n",
            "\n",
            "Dataset is split into Training and Testing samples\n",
            "Total training instances : 13\n",
            "Total testing instances : 5\n",
            "\n",
            "Total features extracted using CountVectorizer: 47\n",
            "\n",
            "Features for first 5 training instances are listed below\n",
            "   about  am  amazing  an  and  bad  ...  we  went  what  will  with  work\n",
            "0      0   0        0   0    0    0  ...   0     0     0     0     0     0\n",
            "1      0   0        1   1    0    0  ...   0     0     0     0     0     0\n",
            "2      0   0        0   0    0    0  ...   0     0     0     0     0     1\n",
            "3      0   1        0   0    0    0  ...   0     0     0     0     0     0\n",
            "4      0   0        0   0    0    0  ...   1     0     0     1     0     0\n",
            "\n",
            "[5 rows x 47 columns]\n",
            "\n",
            "Classsification results of testing samples are given below\n",
            "I do not like the taste of this juice -> neg \n",
            "\n",
            "Accuracy metrics\n",
            "Accuracy of the classifer is 0.8\n",
            "Recall: 1.0 \n",
            "Precison : 0.6666666666666666\n",
            "Confusion matrix\n",
            "[[2 1]\n",
            " [0 2]]\n"
          ],
          "name": "stdout"
        }
      ]
    },
    {
      "cell_type": "code",
      "metadata": {
        "id": "8y05MOaAX-dp"
      },
      "source": [
        ""
      ],
      "execution_count": null,
      "outputs": []
    }
  ]
}